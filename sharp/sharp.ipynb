{
 "cells": [
  {
   "cell_type": "markdown",
   "metadata": {},
   "source": [
    "## Exploring the variation of SHARP parameters during solar flares"
   ]
  },
  {
   "cell_type": "markdown",
   "metadata": {},
   "source": [
    "#### Importing libraries"
   ]
  },
  {
   "cell_type": "code",
   "execution_count": 1,
   "metadata": {},
   "outputs": [],
   "source": [
    "from astropy.io import fits\n",
    "from astropy.coordinates import SkyCoord\n",
    "import astropy.units as u\n",
    "from datetime import datetime as dt_obj\n",
    "import drms\n",
    "from IPython.display import Image\n",
    "import matplotlib.pyplot as plt, matplotlib.ticker as mtick\n",
    "from matplotlib.dates import *\n",
    "import numpy as np\n",
    "import pandas as pd\n",
    "import os.path\n",
    "import sunpy.map\n",
    "from sunpy.coordinates import frames\n",
    "from sunpy.timeseries import TimeSeries\n",
    "from sunpy.time import TimeRange, parse_time\n",
    "from sunpy.net import hek, Fido, attrs as a\n",
    "%matplotlib inline\n",
    "%config InlineBackend.figure_format='retina'"
   ]
  },
  {
   "cell_type": "markdown",
   "metadata": {},
   "source": [
    "## Selecting flare events from the HINODE catalog"
   ]
  },
  {
   "cell_type": "code",
   "execution_count": 2,
   "metadata": {},
   "outputs": [
    {
     "name": "stdout",
     "output_type": "stream",
     "text": [
      "                    peak    loc1 class      X      Y   region\n",
      "id                                                           \n",
      "31070   2011/02/15 01:45  S20W10  X2.2  171.0 -239.0  11158.0\n",
      "33440   2011/03/09 23:16  N08W11  X1.5  196.0  252.0  11166.0\n",
      "43810   2011/09/06 22:20  N14W18  X2.1  287.0  124.0  11283.0\n",
      "43880   2011/09/07 22:38  N14W31  X1.8  482.0  137.0  11283.0\n",
      "55910   2012/03/07 00:24  N18E31  X5.4 -485.0  397.0  11429.0\n",
      "55920   2012/03/07 01:14  N15E26  X1.3 -419.0  364.0  11430.0\n",
      "65220   2012/07/12 16:49  S13W03  X1.4   62.0 -294.0  11520.0\n",
      "92330   2013/11/08 04:26  S14E15  X1.1 -225.0 -278.0  11890.0\n",
      "92540   2013/11/10 05:14  S14W13  X1.1  227.0 -280.0  11890.0\n",
      "96570   2014/01/07 18:32  S15W11  X1.2  137.0 -156.0  11944.0\n",
      "111580  2014/09/10 17:33  N14E02  X1.6  -89.0   74.0  12158.0\n",
      "113710  2014/10/22 14:06  S14E13  X1.6 -225.0 -324.0  12192.0\n",
      "113870  2014/10/24 21:15  S16W21  X3.1  332.0 -265.0  12192.0\n",
      "113940  2014/10/25 17:08  S10W22  X1.0  365.0 -251.0  12192.0\n",
      "118000  2014/12/20 00:28  S21W24  X1.8  448.0 -299.0  12242.0\n",
      "122740  2015/03/11 16:22  S17E22  X2.1 -350.0 -174.0  12297.0\n"
     ]
    }
   ],
   "source": [
    "#===========================================================\n",
    "datadir = '/home/jovyan/sharp/'\n",
    "xmax = 500     # the max distance in arcsec from center in x\n",
    "ymax = 500     # the max distance in arcsec from center in y\n",
    "#=============================================================\n",
    "\n",
    "if not os.path.exists(datadir):\n",
    "    os.mkdir(datadir)\n",
    "flares = pd.read_csv(datadir+'xrt_flarecat.csv', index_col = 0)\n",
    "xflares=flares[flares['class'] > 'X']\n",
    "xflares.iloc[0,:]\n",
    "\n",
    "xftab=xflares.iloc[:,[3,4,5,6,7,18]]\n",
    "xfinal=xftab[(abs(xftab['X']) < xmax) & (abs(xftab['Y']) < ymax) & (xftab['peak'] > '2010/12/31')]\n",
    "xfinal.shape\n",
    "print(xfinal)\n",
    "harp2noaa=datadir+'all_harps_with_noaa_ars.csv'\n",
    "harps = pd.read_csv(harp2noaa, na_filter= False)\n",
    "#harps.iloc[0,:];\n",
    "def find_harp(noaa):\n",
    "    harpid=harps[(harps['NOAA_ARS'] == noaa) | (harps['ar1'] == noaa)| (harps['ar2'] == noaa)\n",
    "               | (harps['ar3'] == noaa)| (harps['ar4'] == noaa)| (harps['ar5'] == noaa)]\n",
    "    harp=harpid['HARPNUM'].values[0]\n",
    "    return harp\n",
    "\n",
    "## Selected event details"
   ]
  },
  {
   "cell_type": "code",
   "execution_count": 3,
   "metadata": {},
   "outputs": [
    {
     "name": "stdout",
     "output_type": "stream",
     "text": [
      "                   peak    loc1 class      X      Y   region\n",
      "id                                                          \n",
      "43810  2011/09/06 22:20  N14W18  X2.1  287.0  124.0  11283.0\n",
      "43880  2011/09/07 22:38  N14W31  X1.8  482.0  137.0  11283.0\n"
     ]
    }
   ],
   "source": [
    "#==================\n",
    "noaa = 11283\n",
    "#==================\n",
    "\n",
    "event = xfinal[xfinal['region']==noaa]\n",
    "#event = xfinal[xfinal['region']==noaa].iloc[[1]] #use iloc index in case of multiple entries\n",
    "print(event)"
   ]
  },
  {
   "cell_type": "markdown",
   "metadata": {},
   "source": [
    "## Input parameters"
   ]
  },
  {
   "cell_type": "code",
   "execution_count": null,
   "metadata": {},
   "outputs": [],
   "source": [
    "#--- email registered at JSOC ------\n",
    "c = drms.Client(email='ap0162@uah.edu', verbose = True)\n",
    "\n",
    "#--- date and time for plotting full disc HARP image ---\n",
    "date_im ='2011/09/07'\n",
    "date_time_im='2011.09.07_22:00:00_TAI' # nearest hour rounded from the peak time\n",
    "\n",
    "#--- date and time for GOES X-ray curve --- \n",
    "goes_t1 ='2011-09-07 19:00'            # six hour duration centered on the peak time\n",
    "goes_t2 ='2011-09-08 01:00'\n",
    "\n",
    "#--- date and time range for plotting mean alpha with time ---\n",
    "hmi_ds ='hmi.sharp_cea_720s'\n",
    "harp = find_harp(noaa)\n",
    "hmi_time = '[2011.09.07_19:00:00/6h]' # six hour duration centered on the peak time\n",
    "hmi_kw = 'T_REC, MEANALP, ERRALP'\n",
    "\n",
    "#--- date and time for plotting the Bz from magnetogram ---\n",
    "ar_time = '[2011.09.07_22:36:00_TAI]' # nearest multiple of 12 minutes before the peak time\n",
    "ar_kw = ['T_REC', 'CROTA2','CRPIX1', 'CRPIX2', 'CDELT1', 'CDELT2', 'CRVAL1', 'CRVAL2']\n",
    "ar_segments = ['Br','Bp','Bt']\n",
    "\n",
    "#--- date and time for plotting AIA 171 image ---\n",
    "aia_ds = 'aia.lev1_euv_12s'\n",
    "aia_time = '[2011.09.07_22:30:00_TAI]' # 15 minutes before the peak time\n",
    "aia_wave = 171\n",
    "aia_segments = ['image']\n",
    "aia_kw = ['T_REC', 'CROTA2','CRPIX1', 'CRPIX2', 'CDELT1', 'CDELT2', 'CRVAL1', 'CRVAL2']"
   ]
  },
  {
   "cell_type": "markdown",
   "metadata": {},
   "source": [
    "## Image of the SHARP patches on the event day"
   ]
  },
  {
   "cell_type": "code",
   "execution_count": null,
   "metadata": {},
   "outputs": [],
   "source": [
    "url='http://jsoc.stanford.edu/doc/data/hmi/harp/harp_definitive/'+date_im+'/harp.'+date_time_im+'.png'\n",
    "Image(url)"
   ]
  },
  {
   "cell_type": "markdown",
   "metadata": {},
   "source": [
    "#### GOES light curve"
   ]
  },
  {
   "cell_type": "code",
   "execution_count": null,
   "metadata": {},
   "outputs": [],
   "source": [
    "#tr = TimeRange(['2011-02-14 22:00', '2011-02-15 05:00'])\n",
    "tr = TimeRange([goes_t1, goes_t2])\n",
    "results = Fido.search(a.Time(tr), a.Instrument('XRS'))\n",
    "\n",
    "#dir(results)\n",
    "\n",
    "client = hek.HEKClient()\n",
    "flares_hek = client.search(hek.attrs.Time(tr.start, tr.end),\n",
    "                           hek.attrs.FL, hek.attrs.FRM.Name == 'SWPC')\n",
    "\n",
    "files = Fido.fetch(results)\n",
    "goes = TimeSeries(files)\n",
    "\n",
    "flares_hek[:]['fl_goescls'];"
   ]
  },
  {
   "cell_type": "code",
   "execution_count": null,
   "metadata": {},
   "outputs": [],
   "source": [
    "tpos=flares_hek[:]['fl_goescls']==event['class'].values[0]\n",
    "fl_ind, = np.where(tpos == True)\n",
    "fl_num = fl_ind[0]"
   ]
  },
  {
   "cell_type": "code",
   "execution_count": null,
   "metadata": {},
   "outputs": [],
   "source": [
    "goesf = goes[0]\n",
    "for i in range(1, results.file_num):\n",
    "    goesf = goesf.concatenate(goes[i])\n",
    "\n",
    "goes_t = goesf.truncate(tr)"
   ]
  },
  {
   "cell_type": "code",
   "execution_count": null,
   "metadata": {},
   "outputs": [],
   "source": [
    "fig, ax = plt.subplots(figsize=(12,8))\n",
    "goes_t.plot()\n",
    "\n",
    "ax.axvline(parse_time(flares_hek[fl_num].get('event_peaktime')).plot_date)\n",
    "ax.axvspan(parse_time(flares_hek[fl_num].get('event_starttime')).plot_date,\n",
    "           parse_time(flares_hek[fl_num].get('event_endtime')).plot_date,\n",
    "           alpha=0.2, label=flares_hek[fl_num].get('fl_goescls'))\n",
    "ax.legend(loc=2)\n",
    "ax.set_yscale('log')\n",
    "ax.set_ylim(10**-8.5,10**-3.2)\n",
    "plt.show()"
   ]
  },
  {
   "cell_type": "markdown",
   "metadata": {},
   "source": [
    "###  Plotting SHARP parameters"
   ]
  },
  {
   "cell_type": "code",
   "execution_count": null,
   "metadata": {},
   "outputs": [],
   "source": [
    "keys, segments = c.query('%s[%d]%s' % (hmi_ds, harp, hmi_time),key=hmi_kw, seg='Br')\n",
    "#keys, segments = c.query('hmi.sharp_cea_720s[377][2011.02.14_22:00:00/6h]',\n",
    "#                         key='T_REC, MEANALP, ERRALP', seg='Br')"
   ]
  },
  {
   "cell_type": "code",
   "execution_count": null,
   "metadata": {},
   "outputs": [],
   "source": [
    "def parse_tai_string(tstr,datetime=True):\n",
    "    year   = int(tstr[:4])\n",
    "    month  = int(tstr[5:7])\n",
    "    day    = int(tstr[8:10])\n",
    "    hour   = int(tstr[11:13])\n",
    "    minute = int(tstr[14:16])\n",
    "    if datetime: return dt_obj(year,month,day,hour,minute)\n",
    "    else: return year,month,day,hour,minute"
   ]
  },
  {
   "cell_type": "code",
   "execution_count": null,
   "metadata": {},
   "outputs": [],
   "source": [
    "t_rec = np.array([parse_tai_string(keys.T_REC[i],datetime=True) for i in range(keys.T_REC.size)])\n",
    "\n",
    "fig, ax = plt.subplots(figsize=(8,6))      # define the size of the figure\n",
    "orangered = (1.0,0.27,0,1.0)                # create an orange-red color\n",
    "\n",
    "# define some style elements\n",
    "marker_style = dict(linestyle='', markersize=8, fillstyle='full',color=orangered,markeredgecolor=orangered)\n",
    "text_style = dict(fontsize=16, fontdict={'family': 'monospace'})\n",
    "ax.tick_params(labelsize=14)\n",
    "ax.yaxis.set_major_formatter(mtick.FormatStrFormatter('%.3f'))\n",
    "\n",
    "# ascribe the data to the axes\n",
    "ax.plot(t_rec, (keys.MEANALP),'o',**marker_style)\n",
    "ax.errorbar(t_rec, (keys.MEANALP), yerr=(keys.ERRALP), linestyle='',color=orangered)\n",
    "\n",
    "# format the x-axis with universal time\n",
    "locator = AutoDateLocator()\n",
    "locator.intervald[HOURLY] = [1] # only show every 1 hours\n",
    "formatter = DateFormatter('%H')\n",
    "ax.xaxis.set_major_locator(locator)\n",
    "ax.xaxis.set_major_formatter(formatter)\n",
    "\n",
    "# set yrange \n",
    "#ax.set_ylim([2.4,2.8])\n",
    "\n",
    "# label the axes and the plot\n",
    "ax.set_xlabel('time in UT',**text_style)\n",
    "ax.set_ylabel('Mean Alpha',**text_style)\n",
    "ax.set_title('Mean Alpha starting at '+str(t_rec[0])+' UT',**text_style); # annotate the plot with a start time"
   ]
  },
  {
   "cell_type": "markdown",
   "metadata": {},
   "source": [
    "### Downloading the HMI Sharp Data"
   ]
  },
  {
   "cell_type": "code",
   "execution_count": null,
   "metadata": {},
   "outputs": [],
   "source": [
    "hmi_k = c.query('%s[%d]%s' % (hmi_ds, harp, ar_time), key=ar_kw, rec_index=True)\n",
    "hmi_si = c.info(hmi_ds)\n",
    "#si.segments\n",
    "\n",
    "clon=(hmi_k.CRVAL1[0])\n",
    "clat=(hmi_k.CRVAL2[0])\n",
    "ctime=hmi_k.T_REC[0]\n",
    "\n",
    "nx=(hmi_k.CRPIX1[0]*2)\n",
    "ny=(hmi_k.CRPIX2[0]*2)\n",
    "\n",
    "cor = SkyCoord(clon*u.deg, clat*u.deg, frame=frames.HeliographicCarrington,obstime=ctime)\n",
    "cor\n",
    "\n",
    "hpc=cor.transform_to(frames.Helioprojective)"
   ]
  },
  {
   "cell_type": "code",
   "execution_count": null,
   "metadata": {},
   "outputs": [],
   "source": [
    "req = hmi_k.CRPIX1.idxmin()\n",
    "exp_query = '%s{%s}' % (req, ','.join(ar_segments))\n",
    "print(exp_query)\n",
    "r = c.export(exp_query)\n",
    "\n",
    "t_rec = drms.to_datetime(hmi_k.T_REC[0])\n",
    "t_rec_str = t_rec.strftime('%Y%m%d_%H%M%S_TAI')\n",
    "fname_mask = '{series}.{sharpnum}.{tstr}.{segment}.fits'\n",
    "fnames = {\n",
    "    s: fname_mask.format(\n",
    "        series=hmi_ds, sharpnum=harp, tstr=t_rec_str, segment=s)\n",
    "    for s in ar_segments}\n",
    "\n",
    "print(fnames['Br'])\n",
    "if not os.path.isfile(datadir + fnames['Br']):\n",
    "    dl = r.download(datadir)"
   ]
  },
  {
   "cell_type": "markdown",
   "metadata": {},
   "source": [
    "###### Read and plots the fits data"
   ]
  },
  {
   "cell_type": "code",
   "execution_count": null,
   "metadata": {},
   "outputs": [],
   "source": [
    "def read_fits_data(fname):\n",
    "    \"\"\"Reads FITS data and fixes/ignores any non-standard FITS keywords.\"\"\"\n",
    "    hdulist = fits.open(fname)\n",
    "    hdulist.verify('silentfix+warn')\n",
    "    return hdulist[1].data"
   ]
  },
  {
   "cell_type": "code",
   "execution_count": null,
   "metadata": {},
   "outputs": [],
   "source": [
    "br = read_fits_data(datadir+fnames['Br'])\n",
    "bt = read_fits_data(datadir+fnames['Bt'])\n",
    "bp = read_fits_data(datadir+fnames['Bp'])"
   ]
  },
  {
   "cell_type": "code",
   "execution_count": null,
   "metadata": {},
   "outputs": [],
   "source": [
    "ar_segments"
   ]
  },
  {
   "cell_type": "code",
   "execution_count": null,
   "metadata": {},
   "outputs": [],
   "source": [
    "bx = bp\n",
    "by = -bt\n",
    "bz = br\n",
    "print(bz.shape)\n",
    "fig = plt.figure(figsize=(8,8))\n",
    "plt.imshow(bz,cmap='gray',origin='lower')\n",
    "plt.title(bz.shape)\n",
    "plt.show()"
   ]
  },
  {
   "cell_type": "markdown",
   "metadata": {},
   "source": [
    "## Cropping of the AR for plotting"
   ]
  },
  {
   "cell_type": "code",
   "execution_count": null,
   "metadata": {},
   "outputs": [],
   "source": [
    "#============= CROP the AR =================\n",
    "xsize = 507\n",
    "ysize = 507\n",
    "yorg = 0\n",
    "xorg = 340\n",
    "#===========================================\n",
    "\n",
    "bzc=bz[yorg:yorg+ysize,xorg:xorg+xsize]\n",
    "fig = plt.figure(figsize=(8,8))\n",
    "plt.imshow(bzc,cmap='gray',origin='lower')\n",
    "plt.title(bzc.shape)\n",
    "plt.show()"
   ]
  },
  {
   "cell_type": "markdown",
   "metadata": {},
   "source": [
    "### Downloading AIA data"
   ]
  },
  {
   "cell_type": "code",
   "execution_count": null,
   "metadata": {},
   "outputs": [],
   "source": [
    "aia_k = c.query('%s%s[%d]' % (aia_ds,aia_time,aia_wave),key=aia_kw, rec_index=True)\n",
    "aia_si = c.info(aia_ds)\n",
    "#aia_si.segments\n",
    "\n",
    "aia_req = aia_k.CRPIX1.idxmin()\n",
    "aia_exp_query = '%s{%s}' % (aia_req, ','.join(aia_segments))\n",
    "print(aia_exp_query)\n",
    "\n",
    "r = c.export(aia_exp_query)\n",
    "\n",
    "t_rec = drms.to_datetime(aia_k.T_REC[0])\n",
    "\n",
    "t_rec_str = t_rec.strftime('%Y%m%dT%H%M%SZ')\n",
    "fname_mask = '{series}.{tstr}.{wave}.{segment}_lev1.fits'\n",
    "fname_mask\n",
    "\n",
    "fnames = {\n",
    "    s: fname_mask.format(\n",
    "        series=aia_ds, wave=aia_wave, tstr=t_rec_str, segment=s)\n",
    "    for s in aia_segments}\n",
    "#fnames\n",
    "\n",
    "print(fnames['image'])\n",
    "\n",
    "if not os.path.isfile(datadir + fnames['image']):\n",
    "    dl = r.download(datadir)\n",
    "\n",
    "fitsf = fnames['image']\n",
    "aia = read_fits_data(datadir + fitsf)\n",
    "aia_map = sunpy.map.Map(datadir + fitsf)\n",
    "\n",
    "fig = plt.figure(figsize=(12,12))\n",
    "ax = fig.add_subplot(111, projection=aia_map)\n",
    "aia_map.plot()\n",
    "plt.show()\n"
   ]
  },
  {
   "cell_type": "code",
   "execution_count": null,
   "metadata": {
    "scrolled": true
   },
   "outputs": [],
   "source": [
    "rat = 0.6/0.5\n",
    "xs=(2*xorg-nx+xsize)/2.\n",
    "ys=(2*yorg-ny+ysize)/2./2 \n",
    "\n",
    "top_right = SkyCoord(hpc.Tx+ (xsize/4. +xs/2)*rat * u.arcsec, hpc.Ty+(ysize/4. +ys/2)\n",
    "                     *rat * u.arcsec, frame=aia_map.coordinate_frame)\n",
    "bottom_left = SkyCoord(hpc.Tx-(xsize/4.-xs/2)*rat * u.arcsec, hpc.Ty-(ysize/4. -ys/2)\n",
    "                       *rat * u.arcsec, frame=aia_map.coordinate_frame)\n",
    "\n",
    "aia_submap = aia_map.submap(bottom_left, top_right)\n",
    "fig = plt.figure(figsize=(6,6))\n",
    "ax = fig.add_subplot(111, projection=aia_submap)\n",
    "aia_submap.plot()\n",
    "plt.show()"
   ]
  }
 ],
 "metadata": {
  "kernelspec": {
   "display_name": "Python 3",
   "language": "python",
   "name": "python3"
  },
  "language_info": {
   "codemirror_mode": {
    "name": "ipython",
    "version": 3
   },
   "file_extension": ".py",
   "mimetype": "text/x-python",
   "name": "python",
   "nbconvert_exporter": "python",
   "pygments_lexer": "ipython3",
   "version": "3.7.3"
  }
 },
 "nbformat": 4,
 "nbformat_minor": 4
}
